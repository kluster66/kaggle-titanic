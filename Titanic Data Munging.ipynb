{
 "cells": [
  {
   "cell_type": "markdown",
   "metadata": {},
   "source": [
    "### bloc de préparation"
   ]
  },
  {
   "cell_type": "code",
   "execution_count": 1,
   "metadata": {
    "collapsed": false
   },
   "outputs": [],
   "source": [
    "%matplotlib inline\n",
    "\n",
    "# ici on met les librairies à importer\n",
    "import numpy as np\n",
    "import pandas as pd\n",
    "import pylab as P\n",
    "\n",
    "from sklearn.ensemble import AdaBoostClassifier\n",
    "from sklearn.ensemble import RandomForestClassifier \n",
    "#from sklearn.ensemble import DecisionTreeClassifier\n",
    "\n",
    "import matplotlib.pyplot as plt\n",
    "\n",
    "from sklearn.cross_validation import train_test_split"
   ]
  },
  {
   "cell_type": "code",
   "execution_count": 2,
   "metadata": {
    "collapsed": true
   },
   "outputs": [],
   "source": [
    "### voici les variables globales ###\n",
    "\n",
    "#les données a charger. index_col=[0] permet d'avoir la colonne \"PassengerId\" comme index de table \n",
    "train_df = pd.read_csv('train.csv', header=0,index_col=[0])\n",
    "#train_df = pd.read_csv('tempo.csv', header=0,index_col=[0])\n",
    "test_df = pd.read_csv('test.csv', header=0,index_col=[0])\n",
    "\n"
   ]
  },
  {
   "cell_type": "code",
   "execution_count": 3,
   "metadata": {
    "collapsed": false
   },
   "outputs": [],
   "source": [
    "#X_train,X_test,y_train,y_test=train_test_split(X,y,test_size=0.25,random_state=11)\n",
    "#train, test_cible = train_test_split(train_df, train_size = 0.8)\n",
    "#train = train.copy()\n",
    "#test_cible = test_cible.copy()\n",
    "#test = test_cible.drop(['Survived'], axis=1).copy()\n",
    "\n",
    "#pour faire le test kaggle il faut décommenter les lignes suivantes\n",
    "train = train_df\n",
    "test = test_df\n",
    "test_cible = test_df"
   ]
  },
  {
   "cell_type": "code",
   "execution_count": 18,
   "metadata": {
    "collapsed": false
   },
   "outputs": [
    {
     "data": {
      "text/html": [
       "<div>\n",
       "<table border=\"1\" class=\"dataframe\">\n",
       "  <thead>\n",
       "    <tr style=\"text-align: right;\">\n",
       "      <th></th>\n",
       "      <th>Survived</th>\n",
       "    </tr>\n",
       "    <tr>\n",
       "      <th>Sex</th>\n",
       "      <th></th>\n",
       "    </tr>\n",
       "  </thead>\n",
       "  <tbody>\n",
       "    <tr>\n",
       "      <th>female</th>\n",
       "      <td>0.742038</td>\n",
       "    </tr>\n",
       "    <tr>\n",
       "      <th>male</th>\n",
       "      <td>0.188908</td>\n",
       "    </tr>\n",
       "  </tbody>\n",
       "</table>\n",
       "</div>"
      ],
      "text/plain": [
       "        Survived\n",
       "Sex             \n",
       "female  0.742038\n",
       "male    0.188908"
      ]
     },
     "execution_count": 18,
     "metadata": {},
     "output_type": "execute_result"
    }
   ],
   "source": [
    "train_df[[\"Sex\", \"Survived\"]].groupby(['Sex']).mean()"
   ]
  },
  {
   "cell_type": "code",
   "execution_count": 19,
   "metadata": {
    "collapsed": false
   },
   "outputs": [
    {
     "data": {
      "text/html": [
       "<div>\n",
       "<table border=\"1\" class=\"dataframe\">\n",
       "  <thead>\n",
       "    <tr style=\"text-align: right;\">\n",
       "      <th></th>\n",
       "      <th>Survived</th>\n",
       "    </tr>\n",
       "    <tr>\n",
       "      <th>Pclass</th>\n",
       "      <th></th>\n",
       "    </tr>\n",
       "  </thead>\n",
       "  <tbody>\n",
       "    <tr>\n",
       "      <th>1</th>\n",
       "      <td>0.629630</td>\n",
       "    </tr>\n",
       "    <tr>\n",
       "      <th>2</th>\n",
       "      <td>0.472826</td>\n",
       "    </tr>\n",
       "    <tr>\n",
       "      <th>3</th>\n",
       "      <td>0.242363</td>\n",
       "    </tr>\n",
       "  </tbody>\n",
       "</table>\n",
       "</div>"
      ],
      "text/plain": [
       "        Survived\n",
       "Pclass          \n",
       "1       0.629630\n",
       "2       0.472826\n",
       "3       0.242363"
      ]
     },
     "execution_count": 19,
     "metadata": {},
     "output_type": "execute_result"
    }
   ],
   "source": [
    "train_df[[\"Pclass\", \"Survived\"]].groupby(['Pclass']).mean()"
   ]
  },
  {
   "cell_type": "code",
   "execution_count": 5,
   "metadata": {
    "collapsed": false
   },
   "outputs": [],
   "source": [
    "# on s'occupe de créer la colonne gender female: 0, male: 1\n",
    "train['Gender'] = train['Sex'].map( {'female': 0, 'male': 1} ).astype(int)\n",
    "#train_df['Gender'] = train_df['Sex'].map( {'female': 0, 'male': 1} ).astype(int)\n",
    "\n",
    "test['Gender'] = test['Sex'].map( {'female': 0, 'male': 1} ).astype(int)\n",
    "#test_df['Gender'] = test_df['Sex'].map( {'female': 0, 'male': 1} ).astype(int)\n",
    "\n"
   ]
  },
  {
   "cell_type": "code",
   "execution_count": 10,
   "metadata": {
    "collapsed": false
   },
   "outputs": [],
   "source": [
    "# il faut remplir les ages non renseignés\n",
    "# etape 1 on cree une colonne AgeFill\n",
    "train['AgeFill'] = train['Age']\n",
    "test['AgeFill'] = test['Age']\n",
    "# Etape 2 on remplit AgeFill avec l'age median en fonction de la classe et du sexe\n",
    "\n",
    "for genre in range(0, 2):  # on selectionne le sexe (0: female, 1:male)\n",
    "    for classe in range(0, 3):  #on selectionne la classe \n",
    "        train.loc[(train_df.Age.isnull()) & (train.Gender == genre ) & \\\n",
    "        (train.Pclass == classe + 1), 'AgeFill'] = \\\n",
    "        train[(train['Gender'] == genre ) & (train['Pclass'] == classe + 1)]['Age'].dropna().median()  \n",
    "        \n",
    "for genre in range(0, 2):\n",
    "    for classe in range(0, 3):\n",
    "        test.loc[(test.Age.isnull()) & (test.Gender == genre ) & \\\n",
    "        (test.Pclass == classe + 1 ), 'AgeFill'] = \\\n",
    "        test[(test['Gender'] == genre ) & (test['Pclass'] == classe + 1)]['Age'].dropna().median()\n",
    "        \n",
    "train['AgeFill'] = train['AgeFill'].astype(int)\n",
    "test['AgeFill'] = test['AgeFill'].astype(int)"
   ]
  },
  {
   "cell_type": "code",
   "execution_count": 11,
   "metadata": {
    "collapsed": false
   },
   "outputs": [],
   "source": [
    "# on convertit Embarked en int \n",
    "\n",
    "train['Embarked_Fill'] = train['Embarked'].astype(str)\n",
    "test['Embarked_Fill'] = test['Embarked'].astype(str)\n",
    "#train_df['Embarked_Fill'].unique()\n",
    "train['Embarked_Fill'] = train['Embarked_Fill'].map( {'S': 0, 'C': 1, 'Q': 2, 'nan': 0} ).astype(int)\n",
    "test['Embarked_Fill'] = test['Embarked_Fill'].map( {'S': 0, 'C': 1, 'Q': 2, 'nan': 0} ).astype(int)"
   ]
  },
  {
   "cell_type": "code",
   "execution_count": 12,
   "metadata": {
    "collapsed": false
   },
   "outputs": [
    {
     "name": "stdout",
     "output_type": "stream",
     "text": [
      "0 336\n",
      "3 240\n",
      "2 136\n",
      "1 179\n"
     ]
    }
   ],
   "source": [
    "#travail sur le prix du billet en fonction de la classe\n",
    "\n",
    "train_df['Fare_Fill'] = (train_df['Fare']//10).clip_upper(3).astype(int)\n",
    "\n",
    "test_df['Fare_Fill'] = (test_df['Fare']//10).clip_upper(3).fillna(3-test_df['Pclass']).astype(int)\n",
    "\n",
    "for i in train_df['Fare_Fill'].unique():\n",
    "    print i, len(train_df[( train_df['Fare_Fill'] == i )])"
   ]
  },
  {
   "cell_type": "code",
   "execution_count": 13,
   "metadata": {
    "collapsed": false
   },
   "outputs": [
    {
     "name": "stderr",
     "output_type": "stream",
     "text": [
      "/Users/philippe/anaconda/lib/python2.7/site-packages/pandas/core/indexing.py:128: SettingWithCopyWarning: \n",
      "A value is trying to be set on a copy of a slice from a DataFrame\n",
      "\n",
      "See the caveats in the documentation: http://pandas.pydata.org/pandas-docs/stable/indexing.html#indexing-view-versus-copy\n",
      "  self._setitem_with_indexer(indexer, value)\n"
     ]
    }
   ],
   "source": [
    "# on regarde les personnes ayant une famille\n",
    "\n",
    "train['Family'] =  train[\"Parch\"] + train[\"SibSp\"]\n",
    "train['Family'].loc[train['Family'] > 0] = 1\n",
    "train['Family'].loc[train['Family'] == 0] = 0\n",
    "\n",
    "test['Family'] =  test[\"Parch\"] + test[\"SibSp\"]\n",
    "test['Family'].loc[test['Family'] > 0] = 1\n",
    "test['Family'].loc[test['Family'] == 0] = 0"
   ]
  },
  {
   "cell_type": "code",
   "execution_count": 16,
   "metadata": {
    "collapsed": false
   },
   "outputs": [
    {
     "name": "stdout",
     "output_type": "stream",
     "text": [
      "<class 'pandas.core.frame.DataFrame'>\n",
      "Int64Index: 418 entries, 892 to 1309\n",
      "Data columns (total 7 columns):\n",
      "Pclass       418 non-null int64\n",
      "SibSp        418 non-null int64\n",
      "Parch        418 non-null int64\n",
      "Gender       418 non-null int64\n",
      "AgeFill      418 non-null int64\n",
      "Fare_Fill    418 non-null int64\n",
      "Family       418 non-null int64\n",
      "dtypes: int64(7)\n",
      "memory usage: 26.1 KB\n"
     ]
    }
   ],
   "source": [
    "test.info()"
   ]
  },
  {
   "cell_type": "markdown",
   "metadata": {},
   "source": [
    "# machine learning"
   ]
  },
  {
   "cell_type": "code",
   "execution_count": 15,
   "metadata": {
    "collapsed": false
   },
   "outputs": [],
   "source": [
    "# il faut supprimer les colonnes inutiles\n",
    "test = test.drop(['Name', \n",
    "                  'Sex', \n",
    "                  'Age', \n",
    "                  'Ticket', \n",
    "                  'Cabin',\n",
    "                  'Embarked',\n",
    "                  'Embarked_Fill',\n",
    "                  'Fare'], axis=1) \n",
    "\n",
    "\n",
    "train = train.drop(['Name',\n",
    "                    'Sex', \n",
    "                    'Age',\n",
    "                    'Ticket', \n",
    "                    'Cabin',\n",
    "                    'Embarked',\n",
    "                    'Embarked_Fill',\n",
    "                    'Fare'], axis=1)"
   ]
  },
  {
   "cell_type": "code",
   "execution_count": 17,
   "metadata": {
    "collapsed": false
   },
   "outputs": [],
   "source": [
    "train_data = train.values\n",
    "test_data = test.values\n",
    "\n",
    "# Entrainement\n",
    "\n",
    "#model = AdaBoostClassifier(n_estimators= 500)\n",
    "model = AdaBoostClassifier(\n",
    "                n_estimators=500\n",
    "                #,learning_rate=0.1\n",
    ")\n",
    "\n",
    "model = model.fit( train_data[0::,1::], train_data[0::,0] )\n",
    "\n",
    "# Prediction\n",
    "\n",
    "output = model.predict(test_data).astype(int)"
   ]
  },
  {
   "cell_type": "code",
   "execution_count": 18,
   "metadata": {
    "collapsed": false
   },
   "outputs": [],
   "source": [
    "#test_cible['Survived2'] = output\n",
    "test_cible['Survived'] = output\n",
    "test_cible[['Survived']].to_csv('resultat.csv')"
   ]
  },
  {
   "cell_type": "markdown",
   "metadata": {},
   "source": [
    "# randomforest "
   ]
  },
  {
   "cell_type": "code",
   "execution_count": 20,
   "metadata": {
    "collapsed": true
   },
   "outputs": [],
   "source": [
    "train_data = train.values\n",
    "test_data = test.values\n",
    "\n",
    "# Create the random forest object which will include all the parameters\n",
    "# for the fit\n",
    "forest = RandomForestClassifier(n_estimators = 100)\n",
    "\n",
    "# Fit the training data to the Survived labels and create the decision trees\n",
    "forest = forest.fit(train_data[0::,1::],train_data[0::,0])\n",
    "\n",
    "# Take the same decision trees and run it on the test data\n",
    "output = forest.predict(test_data).astype(int)"
   ]
  },
  {
   "cell_type": "code",
   "execution_count": 21,
   "metadata": {
    "collapsed": true
   },
   "outputs": [],
   "source": [
    "test_cible['Survived'] = output\n",
    "test_cible[['Survived']].to_csv('resultat.csv')"
   ]
  },
  {
   "cell_type": "code",
   "execution_count": null,
   "metadata": {
    "collapsed": false
   },
   "outputs": [],
   "source": [
    "test_cible[['Survived']]"
   ]
  },
  {
   "cell_type": "code",
   "execution_count": null,
   "metadata": {
    "collapsed": true
   },
   "outputs": [],
   "source": []
  }
 ],
 "metadata": {
  "kernelspec": {
   "display_name": "Python 2",
   "language": "python",
   "name": "python2"
  },
  "language_info": {
   "codemirror_mode": {
    "name": "ipython",
    "version": 2
   },
   "file_extension": ".py",
   "mimetype": "text/x-python",
   "name": "python",
   "nbconvert_exporter": "python",
   "pygments_lexer": "ipython2",
   "version": "2.7.11"
  }
 },
 "nbformat": 4,
 "nbformat_minor": 0
}
